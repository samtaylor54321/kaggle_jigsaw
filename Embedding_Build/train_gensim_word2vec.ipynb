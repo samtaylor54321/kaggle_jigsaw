{
 "cells": [
  {
   "cell_type": "code",
   "execution_count": 1,
   "metadata": {},
   "outputs": [
    {
     "name": "stderr",
     "output_type": "stream",
     "text": [
      "C:\\Users\\James\\Anaconda3\\envs\\tensorflow\\lib\\site-packages\\gensim\\utils.py:1197: UserWarning: detected Windows; aliasing chunkize to chunkize_serial\n",
      "  warnings.warn(\"detected Windows; aliasing chunkize to chunkize_serial\")\n"
     ]
    }
   ],
   "source": [
    "import os\n",
    "from pathlib import Path\n",
    "import pickle\n",
    "import pandas as pd\n",
    "import numpy as np\n",
    "from gensim.models import Word2Vec"
   ]
  },
  {
   "cell_type": "markdown",
   "metadata": {},
   "source": [
    "# Train Word2Vec Embedding\n",
    "\n",
    "Vectorise the input text data by training a new embedding using gensim's Word2Vec."
   ]
  },
  {
   "cell_type": "markdown",
   "metadata": {},
   "source": [
    "File paths"
   ]
  },
  {
   "cell_type": "code",
   "execution_count": 2,
   "metadata": {},
   "outputs": [],
   "source": [
    "path = Path('..')\n",
    "\n",
    "TRAIN_SET = path / 'Data' / 'Tokenised_Text' / 'tokenised_train_custom_stopwords.csv'\n",
    "TEST_SET = path / 'Data' / 'Tokenised_Text' / 'tokenised_test_custom_stopwords.csv'\n",
    "\n",
    "OUT_PATH = path / 'Data' / 'Sequenced_Text'\n",
    "EMBEDDING_OUT_PATH = path / 'Embedding_Build' / 'Trained_Embeddings' / 'word2vec_embedding_weights_custom_stopwords.csv'\n",
    "W2V_TRANSFORMER_OUT_PATH = path / 'Model_Build' / 'Trained_Models' / 'word2vec_model_custom_stopwords.pkl'\n",
    "\n",
    "train_out_path = OUT_PATH / 'word2vec_train_custom_stopwords.csv'\n",
    "test_out_path = OUT_PATH / 'word2vec_test_custom_stopwords.csv'"
   ]
  },
  {
   "cell_type": "markdown",
   "metadata": {},
   "source": [
    "Word2Vec parameters"
   ]
  },
  {
   "cell_type": "code",
   "execution_count": 3,
   "metadata": {},
   "outputs": [],
   "source": [
    "EMBEDDING_DIMENSIONS = 100\n",
    "MIN_COUNT = 1\n",
    "WINDOW = 5"
   ]
  },
  {
   "cell_type": "markdown",
   "metadata": {},
   "source": [
    "## Load corpus to train on\n",
    "\n",
    "Mark empty entries to capture potential meaning. Probably the preprocessing step that made them empty."
   ]
  },
  {
   "cell_type": "code",
   "execution_count": 4,
   "metadata": {},
   "outputs": [],
   "source": [
    "train = pd.read_csv(TRAIN_SET)\n",
    "test = pd.read_csv(TEST_SET)\n",
    "train['comment_text'].fillna('emptyword', inplace=True)\n",
    "test['comment_text'].fillna('emptyword', inplace=True)\n",
    "\n",
    "corpus = pd.concat([train['comment_text'], \n",
    "                    test['comment_text']])"
   ]
  },
  {
   "cell_type": "markdown",
   "metadata": {},
   "source": [
    "## Train model\n",
    "\n",
    "Save model in case it needs uploading to Kaggle for the submission kernel"
   ]
  },
  {
   "cell_type": "code",
   "execution_count": 5,
   "metadata": {},
   "outputs": [
    {
     "name": "stdout",
     "output_type": "stream",
     "text": [
      "Wall time: 3min 56s\n"
     ]
    }
   ],
   "source": [
    "%%time\n",
    "w2v_model = Word2Vec(\n",
    "    corpus.str.split(' ').tolist(), \n",
    "    size=EMBEDDING_DIMENSIONS, \n",
    "    window=WINDOW, \n",
    "    min_count=MIN_COUNT, \n",
    ")"
   ]
  },
  {
   "cell_type": "code",
   "execution_count": 6,
   "metadata": {},
   "outputs": [],
   "source": [
    "embedding = pd.DataFrame(\n",
    "    data=w2v_model.wv.vectors,\n",
    "    index=list(w2v_model.wv.vocab.keys())\n",
    ")"
   ]
  },
  {
   "cell_type": "markdown",
   "metadata": {},
   "source": [
    "## Save output embedding"
   ]
  },
  {
   "cell_type": "code",
   "execution_count": 7,
   "metadata": {},
   "outputs": [
    {
     "name": "stderr",
     "output_type": "stream",
     "text": [
      "Using TensorFlow backend.\n"
     ]
    }
   ],
   "source": [
    "keras_embedding = w2v_model.wv.get_keras_embedding()\n",
    "weights = pd.DataFrame(keras_embedding._initial_weights[0])\n",
    "weights.to_csv(EMBEDDING_OUT_PATH, index=False)"
   ]
  },
  {
   "cell_type": "code",
   "execution_count": 8,
   "metadata": {},
   "outputs": [],
   "source": [
    "pickle.dump(w2v_model, open(W2V_TRANSFORMER_OUT_PATH, 'wb'))"
   ]
  },
  {
   "cell_type": "markdown",
   "metadata": {},
   "source": [
    "## Vectorise datasets and save"
   ]
  },
  {
   "cell_type": "code",
   "execution_count": 9,
   "metadata": {},
   "outputs": [],
   "source": [
    "def get_padded_index_sequence(array_of_word_lists, word2vec_model, \n",
    "                              padding_index, pad_length):\n",
    "    source_word_indices = []\n",
    "    for i in range(len(array_of_word_lists)):\n",
    "        source_word_indices.append([])\n",
    "        for j in range(len(array_of_word_lists[i])):\n",
    "            word = array_of_word_lists[i][j]\n",
    "            if word in word2vec_model.wv.vocab:\n",
    "                word_index = word2vec_model.wv.vocab[word].index\n",
    "                source_word_indices[i].append(word_index)\n",
    "            else:\n",
    "                source_word_indices[i].append(padding_index)\n",
    "        while len(source_word_indices[i]) < pad_length:\n",
    "            source_word_indices[i].append(padding_index)\n",
    "    return pd.DataFrame.from_records(source_word_indices)"
   ]
  },
  {
   "cell_type": "markdown",
   "metadata": {},
   "source": [
    "#### Choose a maximum sequence length"
   ]
  },
  {
   "cell_type": "code",
   "execution_count": 10,
   "metadata": {},
   "outputs": [],
   "source": [
    "import seaborn as sns\n",
    "import matplotlib.pyplot as plt\n",
    "%matplotlib inline"
   ]
  },
  {
   "cell_type": "code",
   "execution_count": 11,
   "metadata": {},
   "outputs": [],
   "source": [
    "question_lengths = corpus.str.split(' ').apply(len)"
   ]
  },
  {
   "cell_type": "code",
   "execution_count": 12,
   "metadata": {},
   "outputs": [
    {
     "data": {
      "image/png": "[encoded data removed]",
      "text/plain": [
       "<Figure size 576x288 with 1 Axes>"
      ]
     },
     "metadata": {
      "needs_background": "light"
     },
     "output_type": "display_data"
    }
   ],
   "source": [
    "fig, ax = plt.subplots(1, 1, figsize=[8, 4])\n",
    "sns.distplot(question_lengths, ax=ax)\n",
    "plt.show()"
   ]
  },
  {
   "cell_type": "code",
   "execution_count": 13,
   "metadata": {},
   "outputs": [],
   "source": [
    "MAX_STRING_LENGTH = 100"
   ]
  },
  {
   "cell_type": "code",
   "execution_count": 14,
   "metadata": {},
   "outputs": [
    {
     "name": "stdout",
     "output_type": "stream",
     "text": [
      "Wall time: 13min 6s\n"
     ]
    }
   ],
   "source": [
    "%%time\n",
    "X_train = get_padded_index_sequence(\n",
    "    train['comment_text'].str.split(' ').tolist(),\n",
    "    w2v_model,\n",
    "    0,\n",
    "    MAX_STRING_LENGTH\n",
    ")"
   ]
  },
  {
   "cell_type": "code",
   "execution_count": 15,
   "metadata": {},
   "outputs": [
    {
     "name": "stdout",
     "output_type": "stream",
     "text": [
      "Wall time: 17.8 s\n"
     ]
    }
   ],
   "source": [
    "%%time\n",
    "X_test = get_padded_index_sequence(\n",
    "    test['comment_text'].str.split(' ').tolist(),\n",
    "    w2v_model,\n",
    "    0,\n",
    "    MAX_STRING_LENGTH\n",
    ")"
   ]
  },
  {
   "cell_type": "code",
   "execution_count": 16,
   "metadata": {},
   "outputs": [],
   "source": [
    "X_train.iloc[:, :MAX_STRING_LENGTH].to_csv(train_out_path)\n",
    "X_test.iloc[:, :MAX_STRING_LENGTH].to_csv(test_out_path)"
   ]
  },
  {
   "cell_type": "code",
   "execution_count": null,
   "metadata": {},
   "outputs": [],
   "source": []
  }
 ],
 "metadata": {
  "kernelspec": {
   "display_name": "Python (tensorflow)",
   "language": "python",
   "name": "tensorflow"
  },
  "language_info": {
   "codemirror_mode": {
    "name": "ipython",
    "version": 3
   },
   "file_extension": ".py",
   "mimetype": "text/x-python",
   "name": "python",
   "nbconvert_exporter": "python",
   "pygments_lexer": "ipython3",
   "version": "3.6.8"
  }
 },
 "nbformat": 4,
 "nbformat_minor": 2
}
